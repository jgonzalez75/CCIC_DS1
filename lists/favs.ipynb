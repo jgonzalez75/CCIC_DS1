{
 "cells": [
  {
   "cell_type": "code",
   "execution_count": 3,
   "metadata": {},
   "outputs": [],
   "source": [
    "foods=['apples', 'shrimp','pasta','calimari', 'sushi']\n",
    "foods[0]= 'peas'\n",
    "foods[4]='swordfish'"
   ]
  },
  {
   "cell_type": "code",
   "execution_count": 4,
   "metadata": {},
   "outputs": [
    {
     "name": "stdout",
     "output_type": "stream",
     "text": [
      "5'1\n"
     ]
    }
   ],
   "source": [
    "data = [['student', 'height', 'weight', 'age'],\n",
    "        ['ellie', \"4'6 \", 60, 10,],\n",
    "        ['sofia', \"4'9 \",75, 11,],\n",
    "        [ 'jesus', \"5'0\", 80, 10,],\n",
    "        ['jamal', \"4'2\", 45, 10,],\n",
    "        ['poppy',\"5'1\", 80, 11]] \n",
    "print(data[5][1])"
   ]
  }
 ],
 "metadata": {
  "kernelspec": {
   "display_name": "Python 3.9.12 ('base')",
   "language": "python",
   "name": "python3"
  },
  "language_info": {
   "codemirror_mode": {
    "name": "ipython",
    "version": 3
   },
   "file_extension": ".py",
   "mimetype": "text/x-python",
   "name": "python",
   "nbconvert_exporter": "python",
   "pygments_lexer": "ipython3",
   "version": "3.9.12"
  },
  "orig_nbformat": 4,
  "vscode": {
   "interpreter": {
    "hash": "a45100ed7193e5be40d71e8e1181762d6197f29dad5b3ed9cb78624ffea03c09"
   }
  }
 },
 "nbformat": 4,
 "nbformat_minor": 2
}
