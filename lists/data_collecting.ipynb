{
 "cells": [
  {
   "cell_type": "code",
   "execution_count": 3,
   "metadata": {},
   "outputs": [
    {
     "name": "stderr",
     "output_type": "stream",
     "text": [
      "<>:1: SyntaxWarning: list indices must be integers or slices, not str; perhaps you missed a comma?\n",
      "<>:1: SyntaxWarning: list indices must be integers or slices, not str; perhaps you missed a comma?\n",
      "C:\\Users\\jgonzalez75\\AppData\\Local\\Temp\\ipykernel_18936\\182903617.py:1: SyntaxWarning: list indices must be integers or slices, not str; perhaps you missed a comma?\n",
      "  table1= [['day 1:']\n",
      "C:\\Users\\jgonzalez75\\AppData\\Local\\Temp\\ipykernel_18936\\182903617.py:1: SyntaxWarning: list indices must be integers or slices, not str; perhaps you missed a comma?\n",
      "  table1= [['day 1:']\n",
      "C:\\Users\\jgonzalez75\\AppData\\Local\\Temp\\ipykernel_18936\\182903617.py:1: SyntaxWarning: list indices must be integers or slices, not str; perhaps you missed a comma?\n",
      "  table1= [['day 1:']\n",
      "C:\\Users\\jgonzalez75\\AppData\\Local\\Temp\\ipykernel_18936\\182903617.py:1: SyntaxWarning: list indices must be integers or slices, not str; perhaps you missed a comma?\n",
      "  table1= [['day 1:']\n",
      "C:\\Users\\jgonzalez75\\AppData\\Local\\Temp\\ipykernel_18936\\182903617.py:1: SyntaxWarning: list indices must be integers or slices, not str; perhaps you missed a comma?\n",
      "  table1= [['day 1:']\n"
     ]
    },
    {
     "ename": "TypeError",
     "evalue": "list indices must be integers or slices, not str",
     "output_type": "error",
     "traceback": [
      "\u001b[1;31m---------------------------------------------------------------------------\u001b[0m",
      "\u001b[1;31mTypeError\u001b[0m                                 Traceback (most recent call last)",
      "\u001b[1;32mc:\\Users\\jgonzalez75\\OneDrive - Cherry Creek School District\\Documents\\GitHub\\CCIC_DS1\\lists\\data_collecting.ipynb Cell 1\u001b[0m in \u001b[0;36m<cell line: 1>\u001b[1;34m()\u001b[0m\n\u001b[1;32m----> <a href='vscode-notebook-cell:/c%3A/Users/jgonzalez75/OneDrive%20-%20Cherry%20Creek%20School%20District/Documents/GitHub/CCIC_DS1/lists/data_collecting.ipynb#W0sZmlsZQ%3D%3D?line=0'>1</a>\u001b[0m table1\u001b[39m=\u001b[39m [[\u001b[39m'\u001b[39;49m\u001b[39mday 1:\u001b[39;49m\u001b[39m'\u001b[39;49m] \n\u001b[0;32m      <a href='vscode-notebook-cell:/c%3A/Users/jgonzalez75/OneDrive%20-%20Cherry%20Creek%20School%20District/Documents/GitHub/CCIC_DS1/lists/data_collecting.ipynb#W0sZmlsZQ%3D%3D?line=1'>2</a>\u001b[0m         [\u001b[39m'\u001b[39;49m\u001b[39m16/18 total people\u001b[39;49m\u001b[39m'\u001b[39;49m]\n\u001b[0;32m      <a href='vscode-notebook-cell:/c%3A/Users/jgonzalez75/OneDrive%20-%20Cherry%20Creek%20School%20District/Documents/GitHub/CCIC_DS1/lists/data_collecting.ipynb#W0sZmlsZQ%3D%3D?line=2'>3</a>\u001b[0m         [\u001b[39m'\u001b[39m\u001b[39m- wearing uniform: 14\u001b[39m\u001b[39m'\u001b[39m]\n\u001b[0;32m      <a href='vscode-notebook-cell:/c%3A/Users/jgonzalez75/OneDrive%20-%20Cherry%20Creek%20School%20District/Documents/GitHub/CCIC_DS1/lists/data_collecting.ipynb#W0sZmlsZQ%3D%3D?line=3'>4</a>\u001b[0m         [\u001b[39m'\u001b[39m\u001b[39m- not wearing uniform: 2\u001b[39m\u001b[39m'\u001b[39m]]\n\u001b[0;32m      <a href='vscode-notebook-cell:/c%3A/Users/jgonzalez75/OneDrive%20-%20Cherry%20Creek%20School%20District/Documents/GitHub/CCIC_DS1/lists/data_collecting.ipynb#W0sZmlsZQ%3D%3D?line=4'>5</a>\u001b[0m table2\u001b[39m=\u001b[39m [[\u001b[39m'\u001b[39m\u001b[39mday 2:\u001b[39m\u001b[39m'\u001b[39m]\n\u001b[0;32m      <a href='vscode-notebook-cell:/c%3A/Users/jgonzalez75/OneDrive%20-%20Cherry%20Creek%20School%20District/Documents/GitHub/CCIC_DS1/lists/data_collecting.ipynb#W0sZmlsZQ%3D%3D?line=5'>6</a>\u001b[0m         [\u001b[39m'\u001b[39m\u001b[39m-\u001b[39m\u001b[39m'\u001b[39m \u001b[39m+\u001b[39m \u001b[39m17\u001b[39m\u001b[39m/\u001b[39m\u001b[39m18\u001b[39m \u001b[39m+\u001b[39m \u001b[39m'\u001b[39m\u001b[39mpeople total\u001b[39m\u001b[39m'\u001b[39m]\n\u001b[0;32m      <a href='vscode-notebook-cell:/c%3A/Users/jgonzalez75/OneDrive%20-%20Cherry%20Creek%20School%20District/Documents/GitHub/CCIC_DS1/lists/data_collecting.ipynb#W0sZmlsZQ%3D%3D?line=6'>7</a>\u001b[0m         [\u001b[39m'\u001b[39m\u001b[39m- wearing uniform:\u001b[39m\u001b[39m'\u001b[39m \u001b[39m+\u001b[39m \u001b[39m15\u001b[39m]\n\u001b[0;32m      <a href='vscode-notebook-cell:/c%3A/Users/jgonzalez75/OneDrive%20-%20Cherry%20Creek%20School%20District/Documents/GitHub/CCIC_DS1/lists/data_collecting.ipynb#W0sZmlsZQ%3D%3D?line=7'>8</a>\u001b[0m         [\u001b[39m'\u001b[39m\u001b[39m- not wearing uniform:\u001b[39m\u001b[39m'\u001b[39m \u001b[39m+\u001b[39m \u001b[39m2\u001b[39m]]\n\u001b[0;32m      <a href='vscode-notebook-cell:/c%3A/Users/jgonzalez75/OneDrive%20-%20Cherry%20Creek%20School%20District/Documents/GitHub/CCIC_DS1/lists/data_collecting.ipynb#W0sZmlsZQ%3D%3D?line=8'>9</a>\u001b[0m \u001b[39mprint\u001b[39m(table1())\n",
      "\u001b[1;31mTypeError\u001b[0m: list indices must be integers or slices, not str"
     ]
    }
   ],
   "source": [
    "table1= [['day 1:'] \n",
    "        ['16/18 total people']\n",
    "        ['- wearing uniform: 14']\n",
    "        ['- not wearing uniform: 2']]\n",
    "table2= [['day 2:'],\n",
    "        ['- people total'],\n",
    "        ['- wearing uniform: 15'],\n",
    "        ['- not wearing uniform: 2']]\n",
    "print(table1)\n",
    "print(table2)"
   ]
  }
 ],
 "metadata": {
  "kernelspec": {
   "display_name": "Python 3.9.12 ('base')",
   "language": "python",
   "name": "python3"
  },
  "language_info": {
   "codemirror_mode": {
    "name": "ipython",
    "version": 3
   },
   "file_extension": ".py",
   "mimetype": "text/x-python",
   "name": "python",
   "nbconvert_exporter": "python",
   "pygments_lexer": "ipython3",
   "version": "3.9.12"
  },
  "orig_nbformat": 4,
  "vscode": {
   "interpreter": {
    "hash": "a45100ed7193e5be40d71e8e1181762d6197f29dad5b3ed9cb78624ffea03c09"
   }
  }
 },
 "nbformat": 4,
 "nbformat_minor": 2
}
