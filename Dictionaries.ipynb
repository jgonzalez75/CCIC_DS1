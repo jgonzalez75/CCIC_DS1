{
 "cells": [
  {
   "cell_type": "code",
   "execution_count": 4,
   "metadata": {},
   "outputs": [
    {
     "name": "stdout",
     "output_type": "stream",
     "text": [
      "['wake up', 'go to school', 'do some homework']\n"
     ]
    }
   ],
   "source": [
    "to_do= {'M': ['wake up', 'go to school', 'do some homework', 'go to scouts'],\n",
    "        'T': ['wake up', 'go to school', 'do some homework'],\n",
    "        'W': ['wake up', 'go to school', 'do some homework'],\n",
    "        'TH': ['wake up', 'go to school', 'do some homework'],\n",
    "        'F': ['wake up', 'go to school', 'do some homework', 'Get ready for work'],\n",
    "        'SA': ['wake up','do some homework' ,'Go to work'],\n",
    "        'SU': ['wake up', 'start my laundry', 'go to work']}\n",
    "ask= input('What day of the week would you like to look at? ex:M , T , W , etc')\n",
    "print(to_do[ask])\n",
    "\n",
    "\n",
    "\n",
    "table= {1: ['2001-08-01', 'Wednesday', 50, 25, 71],\n",
    "        2: ['2001-08-02', 'Thursday', 60, 31, 53],\n",
    "        3: ['2001-08-03', 'Friday', 51, 24, 50],\n",
    "        4: ['2001-08-04', 'Saturday', 79, 21, 69],\n",
    "        5: ['2001-08-05', 'Sunday', 77, 39, 57],\n",
    "        6: ['2001-08-06', 'Monday', 93, 40, 66],\n",
    "        7: ['2001-08-07', 'Tuesday', 55, 32, 63],\n",
    "        8: ['2001-08-08', 'Wednesday', 87, 89, 1]}\n",
    "del table[1]\n",
    "print(table[2])\n",
    "\n"
   ]
  },
  {
   "cell_type": "code",
   "execution_count": null,
   "metadata": {},
   "outputs": [],
   "source": []
  }
 ],
 "metadata": {
  "kernelspec": {
   "display_name": "Python 3.9.12 ('base')",
   "language": "python",
   "name": "python3"
  },
  "language_info": {
   "codemirror_mode": {
    "name": "ipython",
    "version": 3
   },
   "file_extension": ".py",
   "mimetype": "text/x-python",
   "name": "python",
   "nbconvert_exporter": "python",
   "pygments_lexer": "ipython3",
   "version": "3.9.12"
  },
  "orig_nbformat": 4,
  "vscode": {
   "interpreter": {
    "hash": "a45100ed7193e5be40d71e8e1181762d6197f29dad5b3ed9cb78624ffea03c09"
   }
  }
 },
 "nbformat": 4,
 "nbformat_minor": 2
}
