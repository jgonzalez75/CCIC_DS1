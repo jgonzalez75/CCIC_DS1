{
 "cells": [
  {
   "cell_type": "code",
   "execution_count": 1,
   "metadata": {},
   "outputs": [
    {
     "name": "stdout",
     "output_type": "stream",
     "text": [
      "594.3789583913419\n",
      "120.4\n",
      "321.1086970293764\n",
      "900.0\n"
     ]
    }
   ],
   "source": [
    "#for number 1\n",
    "p = 400.0\n",
    "r = 0.02\n",
    "n = 1.0\n",
    "t = 20.0\n",
    "A = p*(1.0 + r/n )**(1*t)\n",
    "print(A)\n",
    "\n",
    "#number 2\n",
    "c=140\n",
    "p=0.14\n",
    "t=c - (c * p)\n",
    "print(t)\n",
    "\n",
    "#number 3\n",
    "p = 300\n",
    "r = 0.06\n",
    "n = 0.5\n",
    "t = 0.6\n",
    "A = p*(1 + r/n )**(1*t)\n",
    "print(A)\n",
    "\n",
    "#number 4\n",
    "p=(850 * 0.03) * 2 \n",
    "s=(120 * 0.10) * 2\n",
    "print((p+s)*12)"
   ]
  }
 ],
 "metadata": {
  "kernelspec": {
   "display_name": "Python 3.9.12 ('base')",
   "language": "python",
   "name": "python3"
  },
  "language_info": {
   "codemirror_mode": {
    "name": "ipython",
    "version": 3
   },
   "file_extension": ".py",
   "mimetype": "text/x-python",
   "name": "python",
   "nbconvert_exporter": "python",
   "pygments_lexer": "ipython3",
   "version": "3.9.12"
  },
  "orig_nbformat": 4,
  "vscode": {
   "interpreter": {
    "hash": "a45100ed7193e5be40d71e8e1181762d6197f29dad5b3ed9cb78624ffea03c09"
   }
  }
 },
 "nbformat": 4,
 "nbformat_minor": 2
}
