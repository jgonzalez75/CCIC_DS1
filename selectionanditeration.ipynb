{
 "cells": [
  {
   "cell_type": "code",
   "execution_count": 1,
   "metadata": {},
   "outputs": [
    {
     "name": "stdout",
     "output_type": "stream",
     "text": [
      "[7, 14, 21, 28, 35]\n"
     ]
    }
   ],
   "source": [
    "number = int(input('enter any number'))\n",
    "other= number\n",
    "length= int(input('enter any number'))\n",
    "b=0\n",
    "list1=[]\n",
    "for i in range(1,  length + 1):\n",
    "    mul = (i * number)\n",
    "    list1.append(mul)\n",
    "print(list1)"
   ]
  },
  {
   "cell_type": "code",
   "execution_count": 18,
   "metadata": {},
   "outputs": [
    {
     "name": "stdout",
     "output_type": "stream",
     "text": [
      ".... . .-.. .--.   -- . "
     ]
    }
   ],
   "source": [
    "#challenge 3\n",
    "\n",
    "morse = input('Type your message here: ')\n",
    "chart={ 'A': '.-', 'B': '-...', 'C': '-.-.', 'D': '-..', 'E': '.', 'F': '..-.',\n",
    "  'G': '--.', 'H': '....', 'I': '..', 'J': '.---', 'K': '-.-', 'L': '.-..',\n",
    "  'M': '--', 'N': '-.', 'O': '---', 'P': '.--.', 'Q': '--.-', 'R': '.-.',\n",
    "  'S': '...', 'T': '-', 'U': '..-', 'V': '...-', 'W': '.--', 'X': '-..-',\n",
    "  'Y': '-.--', 'Z': '--..', ' ': ' ', '0': '-----',\n",
    "  '1': '.----', '2': '..---', '3': '...--', '4': '....-', '5': '.....',\n",
    "  '6': '-....', '7': '--...', '8': '---..', '9': '----.',\n",
    "  '&': '.-...', \"'\": '.----.', '@': '.--.-.', ')': '-.--.-', '(': '-.--.',\n",
    "  ':': '---...', ',': '--..--', '=': '-...-', '!': '-.-.--', '.': '.-.-.-',\n",
    "  '-': '-....-', '+': '.-.-.', '\"': '.-..-.', '?': '..--..', '/': '-..-.'\n",
    "}\n",
    "for i in morse:\n",
    "    print(chart[i], end =' ')"
   ]
  },
  {
   "cell_type": "code",
   "execution_count": 33,
   "metadata": {},
   "outputs": [
    {
     "ename": "TypeError",
     "evalue": "'>=' not supported between instances of 'list' and 'int'",
     "output_type": "error",
     "traceback": [
      "\u001b[1;31m---------------------------------------------------------------------------\u001b[0m",
      "\u001b[1;31mTypeError\u001b[0m                                 Traceback (most recent call last)",
      "\u001b[1;32mc:\\Users\\jgonzalez75\\OneDrive - Cherry Creek School District\\Documents\\GitHub\\CCIC_DS1\\selectionanditeration.ipynb Cell 3\u001b[0m in \u001b[0;36m<cell line: 8>\u001b[1;34m()\u001b[0m\n\u001b[0;32m      <a href='vscode-notebook-cell:/c%3A/Users/jgonzalez75/OneDrive%20-%20Cherry%20Creek%20School%20District/Documents/GitHub/CCIC_DS1/selectionanditeration.ipynb#W2sZmlsZQ%3D%3D?line=7'>8</a>\u001b[0m \u001b[39mfor\u001b[39;00m column \u001b[39min\u001b[39;00m stage:\n\u001b[0;32m      <a href='vscode-notebook-cell:/c%3A/Users/jgonzalez75/OneDrive%20-%20Cherry%20Creek%20School%20District/Documents/GitHub/CCIC_DS1/selectionanditeration.ipynb#W2sZmlsZQ%3D%3D?line=8'>9</a>\u001b[0m     \u001b[39mfor\u001b[39;00m row \u001b[39min\u001b[39;00m column:\n\u001b[1;32m---> <a href='vscode-notebook-cell:/c%3A/Users/jgonzalez75/OneDrive%20-%20Cherry%20Creek%20School%20District/Documents/GitHub/CCIC_DS1/selectionanditeration.ipynb#W2sZmlsZQ%3D%3D?line=9'>10</a>\u001b[0m        \u001b[39mif\u001b[39;00m column \u001b[39m>\u001b[39;49m\u001b[39m=\u001b[39;49m row:\n\u001b[0;32m     <a href='vscode-notebook-cell:/c%3A/Users/jgonzalez75/OneDrive%20-%20Cherry%20Creek%20School%20District/Documents/GitHub/CCIC_DS1/selectionanditeration.ipynb#W2sZmlsZQ%3D%3D?line=10'>11</a>\u001b[0m             boo \u001b[39m=\u001b[39m \u001b[39mTrue\u001b[39;00m\n\u001b[0;32m     <a href='vscode-notebook-cell:/c%3A/Users/jgonzalez75/OneDrive%20-%20Cherry%20Creek%20School%20District/Documents/GitHub/CCIC_DS1/selectionanditeration.ipynb#W2sZmlsZQ%3D%3D?line=11'>12</a>\u001b[0m \u001b[39mprint\u001b[39m(boo)\n",
      "\u001b[1;31mTypeError\u001b[0m: '>=' not supported between instances of 'list' and 'int'"
     ]
    }
   ],
   "source": [
    "boo = False\n",
    "stage= [[1,2,3,2,1,1],\n",
    "        [2,4,4,3,2,2],\n",
    "        [5,5,5,5,4,4],\n",
    "        [6,6,7,6,5,5]]\n",
    "for column in stage:\n",
    "    for row in column:\n",
    "       if column >= row:\n",
    "            boo = True\n",
    "print(boo)"
   ]
  }
 ],
 "metadata": {
  "kernelspec": {
   "display_name": "Python 3.9.12 ('base')",
   "language": "python",
   "name": "python3"
  },
  "language_info": {
   "codemirror_mode": {
    "name": "ipython",
    "version": 3
   },
   "file_extension": ".py",
   "mimetype": "text/x-python",
   "name": "python",
   "nbconvert_exporter": "python",
   "pygments_lexer": "ipython3",
   "version": "3.9.12"
  },
  "orig_nbformat": 4,
  "vscode": {
   "interpreter": {
    "hash": "a45100ed7193e5be40d71e8e1181762d6197f29dad5b3ed9cb78624ffea03c09"
   }
  }
 },
 "nbformat": 4,
 "nbformat_minor": 2
}
