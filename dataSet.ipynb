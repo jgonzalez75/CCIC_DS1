{
 "cells": [
  {
   "cell_type": "code",
   "execution_count": 50,
   "metadata": {},
   "outputs": [
    {
     "name": "stdout",
     "output_type": "stream",
     "text": [
      "     Rank    Channel Info  Influence Score Followers Avg. Likes  Posts  \\\n",
      "0       1     \\ncristiano               92    485.2m       8.7m   3.4k   \n",
      "1       2     kyliejenner               91    370.7m       8.2m   7.0k   \n",
      "3       4   \\nselenagomez               93    348.8m       6.1m   1.9k   \n",
      "4       5       \\ntherock               91    339.4m       1.8m   6.8k   \n",
      "5       6  \\narianagrande               92    333.0m       3.7m   5.0k   \n",
      "..    ...             ...              ...       ...        ...    ...   \n",
      "95     96             433               79     51.9m     872.5k  10.4k   \n",
      "97     98    \\nhudabeauty               82     51.2m     180.9k   2.4k   \n",
      "99    100    \\nkritisanon               76     51.0m     891.5k   2.7k   \n",
      "100   101         \\nadele               84     50.9m       4.7m    423   \n",
      "101   102    \\nkrisjenner               80     50.3m     351.2k   6.4k   \n",
      "\n",
      "     60-Day Eng Rate New Post Avg. Likes Total Likes Country Or Region  \n",
      "0              0.013                6.3m       29.1b             Spain  \n",
      "1              0.014                5.0m       57.4b     United States  \n",
      "3              0.005                1.7m       11.4b     United States  \n",
      "4              0.003              932.0k       12.6b     United States  \n",
      "5              0.009                3.1m       18.5b     United States  \n",
      "..               ...                 ...         ...               ...  \n",
      "95             0.016              826.2k        9.0b       Netherlands  \n",
      "97             0.001               40.9k      442.2m     United States  \n",
      "99             0.011              539.1k        2.4b             India  \n",
      "100            0.031                1.6m        2.0b     United States  \n",
      "101            0.005              267.4k        2.3b     United States  \n",
      "\n",
      "[75 rows x 10 columns]\n"
     ]
    }
   ],
   "source": [
    "from statistics import mode\n",
    "import pandas as pd\n",
    "import seaborn as sns\n",
    "df = pd.read_csv('cereal.csv')\n",
    "df.dropna()\n",
    "sns.set(style ='whitegrid')\n",
    "df = df[df.sugars != 1]\n",
    "\n",
    "df.drop(labels= ['name','mfr'], axis= 1)\n",
    "df.drop(labels = ['calories', 'protien', 'fat', 'sodium', 'fiber', 'carbo', 'potass', 'vitamins','cups'],axis =1)\n",
    "df['sugars'].describe(include='all')\n",
    "sns.regplot(data=df, x ='sugars', y = 'rating')\n",
    "corolation =df.corr()\n",
    "print(corolation)"
   ]
  }
 ],
 "metadata": {
  "kernelspec": {
   "display_name": "Python 3.9.12 ('base')",
   "language": "python",
   "name": "python3"
  },
  "language_info": {
   "codemirror_mode": {
    "name": "ipython",
    "version": 3
   },
   "file_extension": ".py",
   "mimetype": "text/x-python",
   "name": "python",
   "nbconvert_exporter": "python",
   "pygments_lexer": "ipython3",
   "version": "3.9.12"
  },
  "orig_nbformat": 4,
  "vscode": {
   "interpreter": {
    "hash": "a45100ed7193e5be40d71e8e1181762d6197f29dad5b3ed9cb78624ffea03c09"
   }
  }
 },
 "nbformat": 4,
 "nbformat_minor": 2
}
