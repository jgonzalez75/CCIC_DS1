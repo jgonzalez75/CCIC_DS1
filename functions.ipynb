{
 "cells": [
  {
   "cell_type": "code",
   "execution_count": 119,
   "metadata": {},
   "outputs": [
    {
     "name": "stdout",
     "output_type": "stream",
     "text": [
      "16\n",
      "[1, 2, 3, 4, 5, 6, 7, 8, 9, 10, 11, 12, 13, 14, 15, 20]\n",
      "1664386845690212300\n"
     ]
    }
   ],
   "source": [
    "import time\n",
    "time1=time.time_ns()\n",
    "def sortnum(num):\n",
    "    d=sorted(num)\n",
    "    print(d)\n",
    "x=[1,3,5,2,4,6,8,7,9,15,10,20,11,13,12,14]\n",
    "print(len(x))\n",
    "sortnum(x)\n",
    "print(time1)"
   ]
  },
  {
   "cell_type": "code",
   "execution_count": 67,
   "metadata": {},
   "outputs": [],
   "source": [
    "# structure = ['list lengths', 'time']\n",
    "performance= [\n",
    "    [4,0.4],\n",
    "    [11,0.3],\n",
    "    [16,1664386508.140658 ],\n",
    "    [20,1664386486.2660468 ],\n",
    "    [25, 1664386445.223876]]"
   ]
  }
 ],
 "metadata": {
  "kernelspec": {
   "display_name": "Python 3.9.12 ('base')",
   "language": "python",
   "name": "python3"
  },
  "language_info": {
   "codemirror_mode": {
    "name": "ipython",
    "version": 3
   },
   "file_extension": ".py",
   "mimetype": "text/x-python",
   "name": "python",
   "nbconvert_exporter": "python",
   "pygments_lexer": "ipython3",
   "version": "3.9.12"
  },
  "orig_nbformat": 4,
  "vscode": {
   "interpreter": {
    "hash": "a45100ed7193e5be40d71e8e1181762d6197f29dad5b3ed9cb78624ffea03c09"
   }
  }
 },
 "nbformat": 4,
 "nbformat_minor": 2
}
