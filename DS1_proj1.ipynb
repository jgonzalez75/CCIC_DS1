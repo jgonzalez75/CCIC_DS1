{
 "cells": [
  {
   "cell_type": "code",
   "execution_count": 2,
   "metadata": {},
   "outputs": [
    {
     "name": "stdout",
     "output_type": "stream",
     "text": [
      "                     Rank  Influence Score  Followers  Avg. Likes     Posts  \\\n",
      "Rank             1.000000        -0.482216  -0.703721   -0.454651 -0.035835   \n",
      "Influence Score -0.482216         1.000000   0.442241    0.208166  0.168364   \n",
      "Followers       -0.703721         0.442241   1.000000    0.607207  0.058188   \n",
      "Avg. Likes      -0.454651         0.208166   0.607207    1.000000 -0.320149   \n",
      "Posts           -0.035835         0.168364   0.058188   -0.320149  1.000000   \n",
      "60-Day Eng Rate  0.000530        -0.114907  -0.098256    0.542864 -0.370269   \n",
      "Total Likes     -0.467106         0.295035   0.693586    0.669669  0.202232   \n",
      "\n",
      "                 60-Day Eng Rate  Total Likes  \n",
      "Rank                    0.000530    -0.467106  \n",
      "Influence Score        -0.114907     0.295035  \n",
      "Followers              -0.098256     0.693586  \n",
      "Avg. Likes              0.542864     0.669669  \n",
      "Posts                  -0.370269     0.202232  \n",
      "60-Day Eng Rate         1.000000     0.108434  \n",
      "Total Likes             0.108434     1.000000  \n",
      "             Rank  Influence Score     Followers    Avg. Likes         Posts  \\\n",
      "count  137.000000       137.000000  1.370000e+02  1.370000e+02    137.000000   \n",
      "mean    96.007299        81.678832  8.520146e+07  1.488024e+06   3885.401460   \n",
      "std     59.343528         8.747213  8.258396e+07  1.538354e+06   3497.720689   \n",
      "min      1.000000        41.000000  3.340000e+07  6.350000e+04      0.000000   \n",
      "25%     47.000000        80.000000  4.180000e+07  4.127000e+05   1400.000000   \n",
      "50%     92.000000        83.000000  5.330000e+07  1.000000e+06   3000.000000   \n",
      "75%    144.000000        86.000000  7.140000e+07  1.800000e+06   6300.000000   \n",
      "max    200.000000        93.000000  4.852000e+08  8.700000e+06  16900.000000   \n",
      "\n",
      "       60-Day Eng Rate   Total Likes  \n",
      "count       137.000000  1.370000e+02  \n",
      "mean          0.013212  4.267624e+09  \n",
      "std           0.016553  6.475512e+09  \n",
      "min           0.000000  2.280000e+07  \n",
      "25%           0.004000  1.400000e+09  \n",
      "50%           0.008000  2.400000e+09  \n",
      "75%           0.015000  4.400000e+09  \n",
      "max           0.090000  5.740000e+10  \n"
     ]
    },
    {
     "data": {
      "image/png": "[encoded data removed]",
      "text/plain": [
       "<Figure size 432x288 with 1 Axes>"
      ]
     },
     "metadata": {
      "needs_background": "light"
     },
     "output_type": "display_data"
    }
   ],
   "source": [
    "from statistics import mode\n",
    "import pandas as pd\n",
    "import seaborn as sns\n",
    "df = pd.read_csv('Top_Influencers.csv')\n",
    "df = df.dropna()\n",
    "\n",
    "\n",
    "#df['Followers'].mean()\n",
    "def value_to_float(x):\n",
    "    if type(x) == float or type(x) == int:\n",
    "        return x\n",
    "    if 'k' in x:\n",
    "       if len(x) > 1:\n",
    "            return float(x.replace('k', '')) * 1000\n",
    "    if 'm' in x:\n",
    "        if len(x) > 1:\n",
    "           return float(x.replace('m','')) * 1000000\n",
    "    if 'b' in x:\n",
    "        return float(x.replace('b','')) * 1000000000\n",
    "    return 0.0\n",
    "df['Followers'] = df['Followers'].apply(value_to_float)\n",
    "df['Total Likes'] = df['Total Likes'].apply(value_to_float)\n",
    "df['Avg. Likes'] = df['Avg. Likes'].apply(value_to_float)\n",
    "df['Posts'] = df['Posts'].apply(value_to_float)\n",
    "print(df.corr())\n",
    "sns.regplot(data = df,x='Posts' , y = 'Influence Score' )\n",
    "print(df.describe())\n"
   ]
  },
  {
   "cell_type": "code",
   "execution_count": null,
   "metadata": {},
   "outputs": [],
   "source": []
  }
 ],
 "metadata": {
  "kernelspec": {
   "display_name": "Python 3.9.12 ('base')",
   "language": "python",
   "name": "python3"
  },
  "language_info": {
   "codemirror_mode": {
    "name": "ipython",
    "version": 3
   },
   "file_extension": ".py",
   "mimetype": "text/x-python",
   "name": "python",
   "nbconvert_exporter": "python",
   "pygments_lexer": "ipython3",
   "version": "3.9.12"
  },
  "orig_nbformat": 4,
  "vscode": {
   "interpreter": {
    "hash": "a45100ed7193e5be40d71e8e1181762d6197f29dad5b3ed9cb78624ffea03c09"
   }
  }
 },
 "nbformat": 4,
 "nbformat_minor": 2
}
