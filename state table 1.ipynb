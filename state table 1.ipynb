{
 "cells": [
  {
   "cell_type": "code",
   "execution_count": 1,
   "metadata": {},
   "outputs": [
    {
     "name": "stdout",
     "output_type": "stream",
     "text": [
      "Drake\n",
      "Post Malone\n",
      "Drake\n",
      "Drake\n",
      "Drake\n"
     ]
    }
   ],
   "source": [
    "artist2 = \"Drake\"\n",
    "print(artist2)\n",
    "artist1 = \"Post Malone\"\n",
    "print(artist1)\n",
    "artist3 = artist2\n",
    "artist1 = artist3\n",
    "artist2 = artist1\n",
    "print(artist1)\n",
    "print(artist2)\n",
    "print(artist3)"
   ]
  }
 ],
 "metadata": {
  "kernelspec": {
   "display_name": "Python 3.9.12 ('base')",
   "language": "python",
   "name": "python3"
  },
  "language_info": {
   "codemirror_mode": {
    "name": "ipython",
    "version": 3
   },
   "file_extension": ".py",
   "mimetype": "text/x-python",
   "name": "python",
   "nbconvert_exporter": "python",
   "pygments_lexer": "ipython3",
   "version": "3.9.12"
  },
  "orig_nbformat": 4,
  "vscode": {
   "interpreter": {
    "hash": "a45100ed7193e5be40d71e8e1181762d6197f29dad5b3ed9cb78624ffea03c09"
   }
  }
 },
 "nbformat": 4,
 "nbformat_minor": 2
}
