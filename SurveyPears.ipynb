{
 "cells": [
  {
   "cell_type": "code",
   "execution_count": 35,
   "metadata": {},
   "outputs": [
    {
     "name": "stdout",
     "output_type": "stream",
     "text": [
      "These are the majority of the data i surveyed\n",
      "***** \n",
      " Age is 17: 6\n",
      "************* \n",
      " Gender is male  13\n",
      "**************** \n",
      " certification was a yes  14\n"
     ]
    }
   ],
   "source": [
    "forum= [['Age', 'Gender', 'Cert?', \"languages?\", 'something you want to learn'],\n",
    "[16 , \"Male\", \"Yes\", 'Java, python, HTML, CSS'],\n",
    "[16, \"Male\", 'Yes' , 'Java, Python, HTML, CSS' ,'Nothing specific, just want to learn more.'],\n",
    "[17 , 'Male' ,'Yes' ,'Python'\t'To learn how to analyze and execute on data collected'],\n",
    "[17,'Male' ,'Yes'\t,'Java, C++'\t,'How to implement coding languages to collecting data'],\n",
    "[17\t,'Male'\t,'Yes'\t,'Python, HTML'\t,'how to be a nice programmer'],\n",
    "[18\t,'Male'\t,'Maybe'\t,'Java, Python',\t'N/A'],\n",
    "[16\t,'Male'\t,'Yes',\t'Java, Python'\t,'How make a website using python'],\n",
    "[16\t,'Male'\t,'Yes',\t'Java, Python',\t'Machine Learning.'],\n",
    "[15 , 'Male'\t,'Yes'\t,'JavaScript' ,'Python'],\n",
    "[16,\t'all of them',\t'Yes'\t,'Java'\t,'Money'],\n",
    "[15,\t'Male'\t,'Yes',\t'Java, C++, JavaScript, Python,HTML, CSS and lua'],\n",
    "[16, 'Male'\t,'Yes',\t'Java, C#, Python','I want to learn more about python'],\n",
    "[17,\t'Female'\t,'Yes'\t,'Java, Python',\t'how to better use python'],\n",
    "[15,\t'Male',\t'No',\t'Python'\t,'Mathematics'],\n",
    "[17,\t'Female'\t,'Yes',\t'Java, C++, Python',\t'OOP in python'],\n",
    "[17,\t'Male'\t,'Maybe'\t,'Java, C++, C, C#, JavaScript, Python, HTML',\t'machine learning'],\n",
    "[18,\t' female',\t'Yes'\t,'Java, C++, C, C#, JavaScript, Python, HTML, Ruby, R, Lua',\t'I want to know more about how students learn data science techniques. Are the hard parts programming? Analysis techniques? Etc.']]\n",
    "age=0\n",
    "gen=0\n",
    "cert= 0\n",
    "lang=0\n",
    "total=16\n",
    "\n",
    "for row in forum:\n",
    "    for column in row:\n",
    "        if column == 17:\n",
    "            age +=1\n",
    "        elif column == 'Male':\n",
    "            gen +=1\n",
    "        elif column == 'Yes':\n",
    "            cert +=1\n",
    "print('These are the majority of the data i surveyed')\n",
    "print('*****','\\n' ,'Age is 17:', age)\n",
    "print('*************', '\\n','Gender is male ', gen)\n",
    "print('****************', '\\n','certification was a yes ',cert)\n",
    "\n"
   ]
  }
 ],
 "metadata": {
  "kernelspec": {
   "display_name": "Python 3.9.12 ('base')",
   "language": "python",
   "name": "python3"
  },
  "language_info": {
   "codemirror_mode": {
    "name": "ipython",
    "version": 3
   },
   "file_extension": ".py",
   "mimetype": "text/x-python",
   "name": "python",
   "nbconvert_exporter": "python",
   "pygments_lexer": "ipython3",
   "version": "3.9.12"
  },
  "orig_nbformat": 4,
  "vscode": {
   "interpreter": {
    "hash": "a45100ed7193e5be40d71e8e1181762d6197f29dad5b3ed9cb78624ffea03c09"
   }
  }
 },
 "nbformat": 4,
 "nbformat_minor": 2
}
